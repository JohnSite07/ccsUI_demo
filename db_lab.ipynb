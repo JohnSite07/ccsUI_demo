{
 "cells": [
  {
   "cell_type": "code",
   "execution_count": 2,
   "metadata": {},
   "outputs": [],
   "source": [
    "import sqlite3 as sql\n",
    "import pandas as pd"
   ]
  },
  {
   "cell_type": "code",
   "execution_count": 3,
   "metadata": {},
   "outputs": [],
   "source": [
    "conn = sql.connect(\"db.sqlite3\")"
   ]
  },
  {
   "cell_type": "code",
   "execution_count": 4,
   "metadata": {},
   "outputs": [
    {
     "data": {
      "text/html": [
       "<div>\n",
       "<style scoped>\n",
       "    .dataframe tbody tr th:only-of-type {\n",
       "        vertical-align: middle;\n",
       "    }\n",
       "\n",
       "    .dataframe tbody tr th {\n",
       "        vertical-align: top;\n",
       "    }\n",
       "\n",
       "    .dataframe thead th {\n",
       "        text-align: right;\n",
       "    }\n",
       "</style>\n",
       "<table border=\"1\" class=\"dataframe\">\n",
       "  <thead>\n",
       "    <tr style=\"text-align: right;\">\n",
       "      <th></th>\n",
       "      <th>id</th>\n",
       "      <th>Prenom</th>\n",
       "      <th>Nom</th>\n",
       "      <th>Postnom</th>\n",
       "      <th>Sexe</th>\n",
       "      <th>Date_de_naissance</th>\n",
       "      <th>Numero_de_telephone</th>\n",
       "      <th>Email</th>\n",
       "      <th>Statut_id</th>\n",
       "      <th>Fonction_id</th>\n",
       "      <th>Affectation_id</th>\n",
       "    </tr>\n",
       "  </thead>\n",
       "  <tbody>\n",
       "  </tbody>\n",
       "</table>\n",
       "</div>"
      ],
      "text/plain": [
       "Empty DataFrame\n",
       "Columns: [id, Prenom, Nom, Postnom, Sexe, Date_de_naissance, Numero_de_telephone, Email, Statut_id, Fonction_id, Affectation_id]\n",
       "Index: []"
      ]
     },
     "execution_count": 4,
     "metadata": {},
     "output_type": "execute_result"
    }
   ],
   "source": [
    "pd.read_sql(\"SELECT * FROM database_exemple_personnels\", conn)"
   ]
  },
  {
   "cell_type": "code",
   "execution_count": 5,
   "metadata": {},
   "outputs": [
    {
     "data": {
      "text/html": [
       "<div>\n",
       "<style scoped>\n",
       "    .dataframe tbody tr th:only-of-type {\n",
       "        vertical-align: middle;\n",
       "    }\n",
       "\n",
       "    .dataframe tbody tr th {\n",
       "        vertical-align: top;\n",
       "    }\n",
       "\n",
       "    .dataframe thead th {\n",
       "        text-align: right;\n",
       "    }\n",
       "</style>\n",
       "<table border=\"1\" class=\"dataframe\">\n",
       "  <thead>\n",
       "    <tr style=\"text-align: right;\">\n",
       "      <th></th>\n",
       "      <th>Prenom</th>\n",
       "      <th>Nom</th>\n",
       "      <th>Postnom</th>\n",
       "      <th>Sexe</th>\n",
       "      <th>Date_de_naissance</th>\n",
       "      <th>Numero_de_telephone</th>\n",
       "      <th>Email</th>\n",
       "      <th>Statut_id</th>\n",
       "      <th>Fonction_id</th>\n",
       "      <th>Affectation_id</th>\n",
       "    </tr>\n",
       "  </thead>\n",
       "  <tbody>\n",
       "    <tr>\n",
       "      <th>0</th>\n",
       "      <td>Mathieu</td>\n",
       "      <td>Lomema</td>\n",
       "      <td>Moyo</td>\n",
       "      <td>M</td>\n",
       "      <td>1992-02-05</td>\n",
       "      <td>243815695789</td>\n",
       "      <td>moyo.mathieu@gmail.com</td>\n",
       "      <td>3</td>\n",
       "      <td>4</td>\n",
       "      <td>6</td>\n",
       "    </tr>\n",
       "    <tr>\n",
       "      <th>1</th>\n",
       "      <td>Emilie</td>\n",
       "      <td>Manga</td>\n",
       "      <td>NaN</td>\n",
       "      <td>F</td>\n",
       "      <td>1989-06-01</td>\n",
       "      <td>243975555895</td>\n",
       "      <td>mange.h@gmail.com</td>\n",
       "      <td>4</td>\n",
       "      <td>2</td>\n",
       "      <td>10</td>\n",
       "    </tr>\n",
       "    <tr>\n",
       "      <th>2</th>\n",
       "      <td>Eliza</td>\n",
       "      <td>Muteba</td>\n",
       "      <td>Mayela</td>\n",
       "      <td>F</td>\n",
       "      <td>1991-03-15</td>\n",
       "      <td>243897067532</td>\n",
       "      <td>elimuteba@outlook.com</td>\n",
       "      <td>4</td>\n",
       "      <td>6</td>\n",
       "      <td>2</td>\n",
       "    </tr>\n",
       "    <tr>\n",
       "      <th>3</th>\n",
       "      <td>Jonathan</td>\n",
       "      <td>Lenge</td>\n",
       "      <td>Kalenga</td>\n",
       "      <td>M</td>\n",
       "      <td>1984-11-30</td>\n",
       "      <td>243810078045</td>\n",
       "      <td>jonathanLK@gmail.com</td>\n",
       "      <td>6</td>\n",
       "      <td>1</td>\n",
       "      <td>1</td>\n",
       "    </tr>\n",
       "  </tbody>\n",
       "</table>\n",
       "</div>"
      ],
      "text/plain": [
       "     Prenom     Nom  Postnom Sexe Date_de_naissance  Numero_de_telephone   \n",
       "0   Mathieu  Lomema     Moyo    M        1992-02-05         243815695789  \\\n",
       "1    Emilie   Manga      NaN    F        1989-06-01         243975555895   \n",
       "2     Eliza  Muteba   Mayela    F        1991-03-15         243897067532   \n",
       "3  Jonathan   Lenge  Kalenga    M        1984-11-30         243810078045   \n",
       "\n",
       "                    Email  Statut_id  Fonction_id  Affectation_id  \n",
       "0  moyo.mathieu@gmail.com          3            4               6  \n",
       "1       mange.h@gmail.com          4            2              10  \n",
       "2   elimuteba@outlook.com          4            6               2  \n",
       "3    jonathanLK@gmail.com          6            1               1  "
      ]
     },
     "execution_count": 5,
     "metadata": {},
     "output_type": "execute_result"
    }
   ],
   "source": [
    "dummy_file = pd.read_excel(\"Data\\Employes-dummy_data.xlsx\")\n",
    "dummy_file.head()"
   ]
  },
  {
   "cell_type": "code",
   "execution_count": 6,
   "metadata": {},
   "outputs": [
    {
     "data": {
      "text/plain": [
       "4"
      ]
     },
     "execution_count": 6,
     "metadata": {},
     "output_type": "execute_result"
    }
   ],
   "source": [
    "dummy_file.to_sql(\"database_exemple_personnels\", conn, if_exists='append', index=False)"
   ]
  }
 ],
 "metadata": {
  "kernelspec": {
   "display_name": "Python 3",
   "language": "python",
   "name": "python3"
  },
  "language_info": {
   "codemirror_mode": {
    "name": "ipython",
    "version": 3
   },
   "file_extension": ".py",
   "mimetype": "text/x-python",
   "name": "python",
   "nbconvert_exporter": "python",
   "pygments_lexer": "ipython3",
   "version": "3.11.3"
  },
  "orig_nbformat": 4
 },
 "nbformat": 4,
 "nbformat_minor": 2
}
